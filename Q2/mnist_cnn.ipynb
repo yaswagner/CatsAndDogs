{
  "nbformat": 4,
  "nbformat_minor": 0,
  "metadata": {
    "colab": {
      "name": "Copy of IFT6135_HW1_Q2.ipynb",
      "version": "0.3.2",
      "provenance": [],
      "collapsed_sections": []
    },
    "kernelspec": {
      "name": "python3",
      "display_name": "Python 3"
    },
    "accelerator": "GPU"
  },
  "cells": [
    {
      "metadata": {
        "id": "mWocLT5lb8k6",
        "colab_type": "text"
      },
      "cell_type": "markdown",
      "source": [
        "#Initialization"
      ]
    },
    {
      "metadata": {
        "id": "Hnxs2mAzP3Lj",
        "colab_type": "code",
        "colab": {}
      },
      "cell_type": "code",
      "source": [
        "# Loading\n",
        "import torch\n",
        "from torchvision import datasets, transforms, utils\n",
        "\n",
        "# ---- Visualizing\n",
        "import matplotlib.pyplot as plt\n",
        "import numpy as np\n",
        "\n",
        "# Creating a CNN\n",
        "import torch.nn as nn\n",
        "import torch.nn.functional as F\n",
        "\n",
        "# Optimizer\n",
        "import torch.optim as optim\n",
        "import time\n",
        "import random\n",
        "import torch.utils\n",
        "\n",
        "import torch.nn as nn\n",
        "import torch.nn.functional as F\n",
        "import torch.optim as optim\n",
        "from torchvision import datasets, transforms\n",
        "from torch.utils.data import DataLoader\n",
        "import pickle\n",
        "from torch.utils.data.sampler import (SubsetRandomSampler,\n",
        "                                      RandomSampler)\n",
        "from torchvision import datasets, transforms"
      ],
      "execution_count": 0,
      "outputs": []
    },
    {
      "metadata": {
        "id": "n_9FmnWte-hX",
        "colab_type": "code",
        "outputId": "d6550e42-98f6-4123-e8be-923be9e55fa4",
        "colab": {
          "base_uri": "https://localhost:8080/",
          "height": 52
        }
      },
      "cell_type": "code",
      "source": [
        "device = torch.device(\"cuda\" if torch.cuda.is_available() else \"cpu\")\n",
        "print('%d gpu(s) available' % torch.cuda.device_count())\n",
        "print('Using', device)"
      ],
      "execution_count": 0,
      "outputs": [
        {
          "output_type": "stream",
          "text": [
            "1 gpu(s) available\n",
            "Using cuda\n"
          ],
          "name": "stdout"
        }
      ]
    },
    {
      "metadata": {
        "id": "g3nGjBX7ygXx",
        "colab_type": "code",
        "outputId": "537c635f-517d-40ac-9e12-183d1ee08364",
        "colab": {
          "base_uri": "https://localhost:8080/",
          "height": 35
        }
      },
      "cell_type": "code",
      "source": [
        "# If a GPU is available, use it\n",
        "# Pytorch uses an elegant way to keep the code device agnostic\n",
        "if torch.cuda.is_available():\n",
        "    device = torch.device(\"cuda\")\n",
        "    use_cuda = True\n",
        "else:\n",
        "    device = torch.device(\"cpu\")\n",
        "    use_cuda = False\n",
        "    \n",
        "print(device)"
      ],
      "execution_count": 0,
      "outputs": [
        {
          "output_type": "stream",
          "text": [
            "cuda\n"
          ],
          "name": "stdout"
        }
      ]
    },
    {
      "metadata": {
        "id": "ny_q0VgiPXZK",
        "colab_type": "text"
      },
      "cell_type": "markdown",
      "source": [
        "#Loading Data"
      ]
    },
    {
      "metadata": {
        "id": "fJhYSAm6j_pA",
        "colab_type": "code",
        "outputId": "47f42fc2-6d2c-4ff5-cd65-d2c84502bf49",
        "colab": {
          "base_uri": "https://localhost:8080/",
          "height": 35
        }
      },
      "cell_type": "code",
      "source": [
        "transform = transforms.Compose([\n",
        "    #transforms.Grayscale(),\n",
        "    #transforms.RandomVerticalFlip(),\n",
        "    #transforms.RandomRotation(20),\n",
        "    #transforms.RandomResizedCrop(28),\n",
        "    transforms.ToTensor()\n",
        "])\n",
        "\n",
        "\n",
        "class prep_stuff:\n",
        "    def __init__(self, batch_size, path, n_valid, n_test):\n",
        "        self.batch_size = batch_size\n",
        "        self.path = path\n",
        "        self.n_test = n_test\n",
        "\n",
        "        batch_size_eval = 256\n",
        "        \n",
        "\n",
        "        self.train_data = datasets.MNIST(root='../data', train=True,\n",
        "                                        download=True, transform=transform)\n",
        "\n",
        "        \n",
        "        indices = list(range(len(self.train_data)))\n",
        "        random.shuffle(indices)\n",
        "\n",
        "        # Split dataset into train and Test sets\n",
        "        self.train_loader = torch.utils.data.DataLoader(\n",
        "            self.train_data,\n",
        "            batch_size=self.batch_size,\n",
        "            sampler=torch.utils.data.SubsetRandomSampler(indices[:n_valid]),\n",
        "            num_workers=1,\n",
        "            pin_memory=use_cuda\n",
        "        )\n",
        "\n",
        "        # Split dataset into train and Test sets\n",
        "        self.valid_loader = torch.utils.data.DataLoader(\n",
        "            self.train_data,\n",
        "            batch_size=self.batch_size,\n",
        "            sampler=torch.utils.data.SubsetRandomSampler(indices[n_valid:(n_valid+n_test)]),\n",
        "            num_workers=1,\n",
        "            pin_memory=use_cuda\n",
        "        )\n",
        "        self.test_loader = torch.utils.data.DataLoader(\n",
        "            self.train_data,\n",
        "            batch_size=batch_size_eval,\n",
        "            sampler=torch.utils.data.SubsetRandomSampler(indices[(n_valid+n_test):]),\n",
        "            num_workers=1,\n",
        "            pin_memory=use_cuda\n",
        "        )\n",
        "        \n",
        "           \n",
        "\n",
        "\n",
        "# Create the object with both loader and loss functions\n",
        "sstart = time.time()\n",
        "\n",
        "batchSize = 4\n",
        "\n",
        "path = 'drive/My Drive/DL-assignment1/trainset'\n",
        "valid = 50000 \n",
        "test = 5000\n",
        "\n",
        "end = time.time()\n",
        "\n",
        "pre_model = prep_stuff(batchSize, path, valid, test)\n",
        "\n",
        "\n",
        "print('time to upload: ', end-sstart)"
      ],
      "execution_count": 0,
      "outputs": [
        {
          "output_type": "stream",
          "text": [
            "time to upload:  0.0001964569091796875\n"
          ],
          "name": "stdout"
        }
      ]
    },
    {
      "metadata": {
        "id": "wEfUMX8SA1Gi",
        "colab_type": "code",
        "outputId": "cc6c1040-ed46-4e9a-d058-95870b4329cf",
        "colab": {
          "base_uri": "https://localhost:8080/",
          "height": 400
        }
      },
      "cell_type": "code",
      "source": [
        "\n",
        "aaa=time.time()\n",
        "for inputs, targets in pre_model.train_loader:\n",
        "    print(f\"This is the shape of one batch {inputs.shape}. What is the meaning of each dimension?  batch size * channels * height * width\")\n",
        "    print(\"target\", targets.shape)\n",
        "    img = inputs[0,0]\n",
        "    \n",
        "    plt.imshow(img)\n",
        "    \n",
        "    break\n",
        "    \n",
        "bbb = time.time()\n",
        "\n",
        "print('Time to compute: ' , bbb-aaa)"
      ],
      "execution_count": 0,
      "outputs": [
        {
          "output_type": "stream",
          "text": [
            "This is the shape of one batch torch.Size([4, 1, 28, 28]). What is the meaning of each dimension?  batch size * channels * height * width\n",
            "target torch.Size([4])\n",
            "Time to compute:  0.14327001571655273\n"
          ],
          "name": "stdout"
        },
        {
          "output_type": "display_data",
          "data": {
            "image/png": "[encoded data removed]",
            "text/plain": [
              "<Figure size 576x396 with 1 Axes>"
            ]
          },
          "metadata": {
            "tags": []
          }
        }
      ]
    },
    {
      "metadata": {
        "id": "ZOTIOAzlZetw",
        "colab_type": "text"
      },
      "cell_type": "markdown",
      "source": [
        "#Creating a CNN"
      ]
    },
    {
      "metadata": {
        "id": "fW6HoK3QdBVk",
        "colab_type": "code",
        "colab": {}
      },
      "cell_type": "code",
      "source": [
        "class Net(nn.Module):\n",
        "    \n",
        "    \n",
        "    def __init__(self):\n",
        "        super(Net, self).__init__()\n",
        "        self.conv1 = nn.Conv2d(1, 32, 3, padding=1, stride=1) # in 28, out 28, \n",
        "        self.conv2 = nn.Conv2d(32, 64, 3, padding=1) \n",
        "        self.conv3 = nn.Conv2d(64, 128, 3, padding=1)\n",
        "        self.conv4 = nn.Conv2d(128, 128, 3, padding=1)\n",
        "        self.conv5 = nn.Conv2d(128, 128, 3, padding=1) \n",
        "        self.conv6 = nn.Conv2d(128, 256, 3, padding=1)       \n",
        "        \n",
        "        \n",
        "        self.fc1 = nn.Linear(256*7*7, 10)\n",
        "\n",
        "    \n",
        "    def forward(self, x):\n",
        "       \n",
        "      \n",
        "        x = F.relu(self.conv1(x)) # in 28, out 28, \n",
        "        x = F.relu(self.conv2(x)) # 28x28        \n",
        "        x = F.max_pool2d(x, 2)  # 14x14\n",
        "             \n",
        "        x = F.relu(self.conv3(x)) # 14x14      \n",
        "        x = F.relu(self.conv4(x)) #  14x14 \n",
        "        x = F.max_pool2d(x,2)\n",
        "        x = F.relu(self.conv5(x)) # 14x14\n",
        "        x = F.relu(self.conv6(x)) # 14x14\n",
        "        \n",
        "        x = x.view(x.size(0), -1)\n",
        "        #print(x.shape)\n",
        "        x = F.relu(self.fc1(x))\n",
        "       \n",
        "        return F.log_softmax(x, dim=1)\n",
        "\n",
        "net = Net()"
      ],
      "execution_count": 0,
      "outputs": []
    },
    {
      "metadata": {
        "id": "ifD3iHMMZ3As",
        "colab_type": "text"
      },
      "cell_type": "markdown",
      "source": [
        "#Training"
      ]
    },
    {
      "metadata": {
        "id": "y7OBLYb6yPDz",
        "colab_type": "text"
      },
      "cell_type": "markdown",
      "source": [
        "####Training"
      ]
    },
    {
      "metadata": {
        "id": "G2fIQBtNyQG7",
        "colab_type": "code",
        "colab": {}
      },
      "cell_type": "code",
      "source": [
        "def train(model,train_loader, optimizer, epoch ):\n",
        "    \"\"\"Perform one epoch of training.\"\"\"\n",
        "    model.train()\n",
        "    \n",
        "    test_size = 0\n",
        "    correct = 0\n",
        "    train_loss = 0 \n",
        "    \n",
        "    for batch_idx, (inputs, target) in enumerate(train_loader):\n",
        "        \n",
        "        test_size += len(inputs)\n",
        "        inputs, target = inputs.to(device), target.to(device)\n",
        "        \n",
        "        optimizer.zero_grad()\n",
        "        output = model(inputs)\n",
        "        loss = loss_fn(output, target)\n",
        "        \n",
        "        train_loss += loss_fn(output, target).item() \n",
        "        \n",
        "        pred = output.max(1, keepdim=True)[1] \n",
        "        correct += pred.eq(target.view_as(pred)).sum().item()\n",
        "        \n",
        "        # Backprop\n",
        "        loss.backward()\n",
        "        optimizer.step()\n",
        "        ###\n",
        "    train_loss /= test_size\n",
        "    train_acc = correct/test_size\n",
        "        #if batch_idx % 1000 == 0:\n",
        "         #   print('Train Epoch: {} [{}/{} ({:.0f}%)]\\tLoss: {:.6f}'.format(\n",
        "          #      epoch, batch_idx * len(inputs), len(train_loader) *len(inputs) ,\n",
        "           #     100. * batch_idx / len(train_loader), loss.item()))\n",
        "    return train_loss, train_acc"
      ],
      "execution_count": 0,
      "outputs": []
    },
    {
      "metadata": {
        "id": "c1UY0Cb-yRGa",
        "colab_type": "code",
        "colab": {}
      },
      "cell_type": "code",
      "source": [
        "def test(model, test_loader):\n",
        "    model.eval()\n",
        "    \n",
        "    valid_loss = 0\n",
        "    correct = 0\n",
        "    test_size = 0\n",
        "    with torch.no_grad():\n",
        "        for inputs, target in test_loader:\n",
        "          \n",
        "            inputs, target = inputs.to(device), target.to(device)\n",
        "            \n",
        "            \n",
        "            output = model(inputs)\n",
        "            test_size += len(inputs)\n",
        "            valid_loss += test_loss_fn(output, target).item() \n",
        "            pred = output.max(1, keepdim=True)[1] \n",
        "            correct += pred.eq(target.view_as(pred)).sum().item()\n",
        "\n",
        "    valid_loss /= test_size\n",
        "    accuracy = correct / test_size\n",
        "    print('\\nValidation set: Average loss: {:.4f}, Accuracy: {}/{} ({:.0f}%)\\n'.format(\n",
        "        valid_loss, correct, test_size,\n",
        "        100. * accuracy))\n",
        "    \n",
        "    return valid_loss, accuracy"
      ],
      "execution_count": 0,
      "outputs": []
    },
    {
      "metadata": {
        "id": "ugBmQLL-yTLQ",
        "colab_type": "code",
        "outputId": "a9cb28cb-eae1-4da8-bfe3-01c4479d4746",
        "colab": {
          "base_uri": "https://localhost:8080/",
          "height": 764
        }
      },
      "cell_type": "code",
      "source": [
        "\n",
        "model = Net().to(device)\n",
        "test_accuracy = []\n",
        "train_loss = []\n",
        "train_accurary = []\n",
        "valid_loss = []\n",
        "tr_loss = []\n",
        "nbr_epochs = 10\n",
        "\n",
        "lr = 0.0025 # \n",
        "\n",
        "weight_decay = 0\n",
        "\n",
        "# Surrogate loss used for training\n",
        "loss_fn = nn.CrossEntropyLoss()\n",
        "test_loss_fn = nn.CrossEntropyLoss(reduction='sum')\n",
        "\n",
        "\n",
        "optimizer = optim.SGD(model.parameters(), lr=lr)\n",
        "\n",
        "\n",
        "print('Training beginning...')\n",
        "start_time = time.time()\n",
        "for epoch in range(1, nbr_epochs+1):\n",
        "    print('Epoch ', epoch, ':')\n",
        "    tr_loss, train_acc = train(model, pre_model.train_loader, optimizer, epoch)\n",
        "    loss, acc = test(model, pre_model.valid_loader)\n",
        "    \n",
        "    # save results every epoch\n",
        "    train_accurary.append(train_acc)\n",
        "    train_loss.append(tr_loss)\n",
        "    test_accuracy.append(acc)\n",
        "    valid_loss.append(loss)\n",
        "\n",
        "end_time = time.time()\n",
        "print('Training on ' + str(nbr_epochs) + ' epochs done in ', str(end_time-start_time),' seconds')\n"
      ],
      "execution_count": 0,
      "outputs": [
        {
          "output_type": "stream",
          "text": [
            "Training beginning...\n",
            "Epoch  1 :\n",
            "\n",
            "Validation set: Average loss: 0.2176, Accuracy: 4663/5000 (93%)\n",
            "\n",
            "Epoch  2 :\n",
            "\n",
            "Validation set: Average loss: 0.1143, Accuracy: 4827/5000 (97%)\n",
            "\n",
            "Epoch  3 :\n",
            "\n",
            "Validation set: Average loss: 0.0607, Accuracy: 4905/5000 (98%)\n",
            "\n",
            "Epoch  4 :\n",
            "\n",
            "Validation set: Average loss: 0.0678, Accuracy: 4900/5000 (98%)\n",
            "\n",
            "Epoch  5 :\n",
            "\n",
            "Validation set: Average loss: 0.0539, Accuracy: 4916/5000 (98%)\n",
            "\n",
            "Epoch  6 :\n",
            "\n",
            "Validation set: Average loss: 0.0463, Accuracy: 4927/5000 (99%)\n",
            "\n",
            "Epoch  7 :\n",
            "\n",
            "Validation set: Average loss: 0.0496, Accuracy: 4924/5000 (98%)\n",
            "\n",
            "Epoch  8 :\n",
            "\n",
            "Validation set: Average loss: 0.0441, Accuracy: 4934/5000 (99%)\n",
            "\n",
            "Epoch  9 :\n",
            "\n",
            "Validation set: Average loss: 0.0470, Accuracy: 4937/5000 (99%)\n",
            "\n",
            "Epoch  10 :\n",
            "\n",
            "Validation set: Average loss: 0.0426, Accuracy: 4940/5000 (99%)\n",
            "\n",
            "Training on 10 epochs done in  882.2229506969452  seconds\n"
          ],
          "name": "stdout"
        }
      ]
    },
    {
      "metadata": {
        "id": "Ey9dobh-aGXa",
        "colab_type": "code",
        "outputId": "35d8ea85-da18-45b1-97f3-a6fe1f38b3dd",
        "colab": {
          "base_uri": "https://localhost:8080/",
          "height": 394
        }
      },
      "cell_type": "code",
      "source": [
        "# Accuracy on train set\n",
        "xvalues= np.arange(0,nbr_epochs,1)\n",
        "plt.title('Training Accuracy')\n",
        "plt.xlabel('Epochs')\n",
        "plt.ylabel('Accuracy')\n",
        "plt.plot(xvalues, train_accurary)"
      ],
      "execution_count": 0,
      "outputs": [
        {
          "output_type": "execute_result",
          "data": {
            "text/plain": [
              "[<matplotlib.lines.Line2D at 0x7fcb678376d8>]"
            ]
          },
          "metadata": {
            "tags": []
          },
          "execution_count": 32
        },
        {
          "output_type": "display_data",
          "data": {
            "image/png": "[encoded data removed]",
            "text/plain": [
              "<Figure size 576x396 with 1 Axes>"
            ]
          },
          "metadata": {
            "tags": []
          }
        }
      ]
    },
    {
      "metadata": {
        "id": "32LYnW3CaGaY",
        "colab_type": "code",
        "outputId": "723805e0-c180-4a42-cc9d-87a84ef6a8fc",
        "colab": {
          "base_uri": "https://localhost:8080/",
          "height": 394
        }
      },
      "cell_type": "code",
      "source": [
        "#error on training set\n",
        "plt.title('Train Loss')\n",
        "plt.xlabel('Epochs')\n",
        "plt.ylabel('Loss')\n",
        "plt.plot(xvalues, train_loss)"
      ],
      "execution_count": 0,
      "outputs": [
        {
          "output_type": "execute_result",
          "data": {
            "text/plain": [
              "[<matplotlib.lines.Line2D at 0x7fcb63726080>]"
            ]
          },
          "metadata": {
            "tags": []
          },
          "execution_count": 33
        },
        {
          "output_type": "display_data",
          "data": {
            "image/png": "[encoded data removed]",
            "text/plain": [
              "<Figure size 576x396 with 1 Axes>"
            ]
          },
          "metadata": {
            "tags": []
          }
        }
      ]
    },
    {
      "metadata": {
        "id": "tiwPA3meylSw",
        "colab_type": "code",
        "outputId": "88e94792-423d-41a3-de6e-c7f4739e041c",
        "colab": {
          "base_uri": "https://localhost:8080/",
          "height": 394
        }
      },
      "cell_type": "code",
      "source": [
        "# Accuracy on validation set\n",
        "plt.title('Valid Accuracy')\n",
        "plt.xlabel('Epochs')\n",
        "plt.ylabel('Accuracy')\n",
        "plt.plot(xvalues, test_accuracy)\n",
        "\n",
        "print('With lr=',lr,', weight decay = 0 ' ', Batch size of ', batchSize ,' and ')"
      ],
      "execution_count": 0,
      "outputs": [
        {
          "output_type": "stream",
          "text": [
            "With lr= 0.0025 , weight decay = 0 , Batch size of  4  and \n"
          ],
          "name": "stdout"
        },
        {
          "output_type": "display_data",
          "data": {
            "image/png": "[encoded data removed]",
            "text/plain": [
              "<Figure size 576x396 with 1 Axes>"
            ]
          },
          "metadata": {
            "tags": []
          }
        }
      ]
    },
    {
      "metadata": {
        "id": "wTG1tDKiITl4",
        "colab_type": "code",
        "outputId": "a967da49-1370-4c8a-f933-f2aa028925ce",
        "colab": {
          "base_uri": "https://localhost:8080/",
          "height": 394
        }
      },
      "cell_type": "code",
      "source": [
        "#error on validation set\n",
        "plt.title('Valid Loss')\n",
        "plt.xlabel('Epochs')\n",
        "plt.ylabel('Loss')\n",
        "plt.plot(xvalues, valid_loss)"
      ],
      "execution_count": 0,
      "outputs": [
        {
          "output_type": "execute_result",
          "data": {
            "text/plain": [
              "[<matplotlib.lines.Line2D at 0x7fcb679369b0>]"
            ]
          },
          "metadata": {
            "tags": []
          },
          "execution_count": 35
        },
        {
          "output_type": "display_data",
          "data": {
            "image/png": "[encoded data removed]",
            "text/plain": [
              "<Figure size 576x396 with 1 Axes>"
            ]
          },
          "metadata": {
            "tags": []
          }
        }
      ]
    },
    {
      "metadata": {
        "id": "uz3fg4AIIU0W",
        "colab_type": "code",
        "colab": {}
      },
      "cell_type": "code",
      "source": [
        ""
      ],
      "execution_count": 0,
      "outputs": []
    },
    {
      "metadata": {
        "id": "MfhvkusbIW45",
        "colab_type": "text"
      },
      "cell_type": "markdown",
      "source": [
        "#### Test Set Checking"
      ]
    },
    {
      "metadata": {
        "id": "EN-lqw5uIU63",
        "colab_type": "code",
        "outputId": "a7cc53a9-abb1-4b0e-b8b1-3e2fbeffcf80",
        "colab": {
          "base_uri": "https://localhost:8080/",
          "height": 106
        }
      },
      "cell_type": "code",
      "source": [
        "loss, acc = test(model, pre_model.test_loader)\n",
        "print('Loss on test set: ' , loss)\n",
        "print('Accuracy on Test set: ' , acc)"
      ],
      "execution_count": 0,
      "outputs": [
        {
          "output_type": "stream",
          "text": [
            "\n",
            "Validation set: Average loss: 0.0400, Accuracy: 4944/5000 (99%)\n",
            "\n",
            "Loss on test set:  0.040030140340328216\n",
            "Accuracy on Test set:  0.9888\n"
          ],
          "name": "stdout"
        }
      ]
    },
    {
      "metadata": {
        "id": "ApeargctZvR3",
        "colab_type": "code",
        "colab": {}
      },
      "cell_type": "code",
      "source": [
        ""
      ],
      "execution_count": 0,
      "outputs": []
    }
  ]
}